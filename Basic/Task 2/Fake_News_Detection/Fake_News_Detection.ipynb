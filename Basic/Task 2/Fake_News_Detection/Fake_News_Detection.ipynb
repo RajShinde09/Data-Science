{
 "cells": [
  {
   "cell_type": "code",
   "execution_count": 4,
   "id": "acf75a7a",
   "metadata": {},
   "outputs": [
    {
     "name": "stdout",
     "output_type": "stream",
     "text": [
      "WARNING:tensorflow:From C:\\Users\\Harshal Tak\\AppData\\Local\\Temp\\ipykernel_7776\\1464356714.py:17: The name tf.disable_eager_execution is deprecated. Please use tf.compat.v1.disable_eager_execution instead.\n",
      "\n"
     ]
    }
   ],
   "source": [
    "import numpy as np\n",
    "import pandas as pd\n",
    "import json\n",
    "import csv\n",
    "import random\n",
    "\n",
    "from tensorflow.keras.preprocessing.text import Tokenizer\n",
    "from tensorflow.keras.preprocessing.sequence import pad_sequences\n",
    "from tensorflow.keras.utils import to_categorical\n",
    "from tensorflow.keras import regularizers\n",
    "\n",
    "import pprint\n",
    "import tensorflow.compat.v1 as tf\n",
    "from tensorflow.python.framework import ops\n",
    "from sklearn.model_selection import train_test_split \n",
    "from sklearn import preprocessing \n",
    "tf.disable_eager_execution() "
   ]
  },
  {
   "cell_type": "code",
   "execution_count": 24,
   "id": "44324061",
   "metadata": {},
   "outputs": [
    {
     "data": {
      "text/html": [
       "<div>\n",
       "<style scoped>\n",
       "    .dataframe tbody tr th:only-of-type {\n",
       "        vertical-align: middle;\n",
       "    }\n",
       "\n",
       "    .dataframe tbody tr th {\n",
       "        vertical-align: top;\n",
       "    }\n",
       "\n",
       "    .dataframe thead th {\n",
       "        text-align: right;\n",
       "    }\n",
       "</style>\n",
       "<table border=\"1\" class=\"dataframe\">\n",
       "  <thead>\n",
       "    <tr style=\"text-align: right;\">\n",
       "      <th></th>\n",
       "      <th>Unnamed: 0</th>\n",
       "      <th>title</th>\n",
       "      <th>text</th>\n",
       "      <th>label</th>\n",
       "    </tr>\n",
       "  </thead>\n",
       "  <tbody>\n",
       "    <tr>\n",
       "      <th>0</th>\n",
       "      <td>8476</td>\n",
       "      <td>You Can Smell Hillary’s Fear</td>\n",
       "      <td>Daniel Greenfield, a Shillman Journalism Fello...</td>\n",
       "      <td>FAKE</td>\n",
       "    </tr>\n",
       "    <tr>\n",
       "      <th>1</th>\n",
       "      <td>10294</td>\n",
       "      <td>Watch The Exact Moment Paul Ryan Committed Pol...</td>\n",
       "      <td>Google Pinterest Digg Linkedin Reddit Stumbleu...</td>\n",
       "      <td>FAKE</td>\n",
       "    </tr>\n",
       "    <tr>\n",
       "      <th>2</th>\n",
       "      <td>3608</td>\n",
       "      <td>Kerry to go to Paris in gesture of sympathy</td>\n",
       "      <td>U.S. Secretary of State John F. Kerry said Mon...</td>\n",
       "      <td>REAL</td>\n",
       "    </tr>\n",
       "    <tr>\n",
       "      <th>3</th>\n",
       "      <td>10142</td>\n",
       "      <td>Bernie supporters on Twitter erupt in anger ag...</td>\n",
       "      <td>— Kaydee King (@KaydeeKing) November 9, 2016 T...</td>\n",
       "      <td>FAKE</td>\n",
       "    </tr>\n",
       "    <tr>\n",
       "      <th>4</th>\n",
       "      <td>875</td>\n",
       "      <td>The Battle of New York: Why This Primary Matters</td>\n",
       "      <td>It's primary day in New York and front-runners...</td>\n",
       "      <td>REAL</td>\n",
       "    </tr>\n",
       "  </tbody>\n",
       "</table>\n",
       "</div>"
      ],
      "text/plain": [
       "   Unnamed: 0                                              title  \\\n",
       "0        8476                       You Can Smell Hillary’s Fear   \n",
       "1       10294  Watch The Exact Moment Paul Ryan Committed Pol...   \n",
       "2        3608        Kerry to go to Paris in gesture of sympathy   \n",
       "3       10142  Bernie supporters on Twitter erupt in anger ag...   \n",
       "4         875   The Battle of New York: Why This Primary Matters   \n",
       "\n",
       "                                                text label  \n",
       "0  Daniel Greenfield, a Shillman Journalism Fello...  FAKE  \n",
       "1  Google Pinterest Digg Linkedin Reddit Stumbleu...  FAKE  \n",
       "2  U.S. Secretary of State John F. Kerry said Mon...  REAL  \n",
       "3  — Kaydee King (@KaydeeKing) November 9, 2016 T...  FAKE  \n",
       "4  It's primary day in New York and front-runners...  REAL  "
      ]
     },
     "execution_count": 24,
     "metadata": {},
     "output_type": "execute_result"
    }
   ],
   "source": [
    "data = pd.read_csv('news.csv')\n",
    "data.head()"
   ]
  },
  {
   "cell_type": "code",
   "execution_count": 25,
   "id": "1f8cb349",
   "metadata": {},
   "outputs": [],
   "source": [
    "# encoding the labels\n",
    "le = preprocessing.LabelEncoder()\n",
    "le.fit(data['label'])\n",
    "data['label'] = le.transform(data['label'])"
   ]
  },
  {
   "cell_type": "code",
   "execution_count": 26,
   "id": "f5818875",
   "metadata": {},
   "outputs": [],
   "source": [
    "# These are some variables required for the model training.\n",
    "embedding_dim = 50\n",
    "max_length = 54\n",
    "trunc_type = 'post'\n",
    "padding_type = 'post'\n",
    "oov_tok = \"<OOV>\"\n",
    "training_size = 3000\n",
    "test_portion = .1"
   ]
  },
  {
   "cell_type": "code",
   "execution_count": 27,
   "id": "c1b08849",
   "metadata": {},
   "outputs": [],
   "source": [
    "# Tokenization \n",
    "# This process divides a large piece of continuous text into distinct units or tokens basically. \n",
    "# Here we use columns separately for a temporal basis as a pipeline just for good accuracy.\n",
    "title = []\n",
    "text = []\n",
    "labels = []\n",
    "for x in range(training_size):\n",
    "    title.append(data['title'][x])\n",
    "    text.append(data['text'][x])\n",
    "    labels.append(data['label'][x])"
   ]
  },
  {
   "cell_type": "code",
   "execution_count": 28,
   "id": "94168eee",
   "metadata": {},
   "outputs": [],
   "source": [
    "tokenizer1 = Tokenizer() \n",
    "tokenizer1.fit_on_texts(title) \n",
    "word_index1 = tokenizer1.word_index \n",
    "vocab_size1 = len(word_index1) \n",
    "sequences1 = tokenizer1.texts_to_sequences(title) \n",
    "padded1 = pad_sequences(sequences1, padding=padding_type, truncating=trunc_type) \n",
    "split = int(test_portion * training_size) \n",
    "training_sequences1 = padded1[split:training_size] \n",
    "test_sequences1 = padded1[0:split] \n",
    "test_labels = labels[0:split] \n",
    "training_labels = labels[split:training_size] "
   ]
  },
  {
   "cell_type": "code",
   "execution_count": 29,
   "id": "d9c99f41",
   "metadata": {},
   "outputs": [],
   "source": [
    "embeddings_index = {} \n",
    "with open('glove.6B.50d.txt',encoding='UTF-8') as f: \n",
    "    for line in f: \n",
    "        values = line.split() \n",
    "        word = values[0] \n",
    "        coefs = np.asarray(values[1:], dtype='float32') \n",
    "        embeddings_index[word] = coefs\n",
    "\n",
    "        \n",
    "# Generating embeddings \n",
    "embeddings_matrix = np.zeros((vocab_size1+1, embedding_dim)) \n",
    "for word, i in word_index1.items(): \n",
    "    embedding_vector = embeddings_index.get(word) \n",
    "    if embedding_vector is not None: \n",
    "        embeddings_matrix[i] = embedding_vector "
   ]
  },
  {
   "cell_type": "code",
   "execution_count": 30,
   "id": "38fe8c7a",
   "metadata": {},
   "outputs": [
    {
     "name": "stdout",
     "output_type": "stream",
     "text": [
      "Model: \"sequential_1\"\n",
      "_________________________________________________________________\n",
      " Layer (type)                Output Shape              Param #   \n",
      "=================================================================\n",
      " embedding_1 (Embedding)     (None, 54, 50)            377600    \n",
      "                                                                 \n",
      " dropout_1 (Dropout)         (None, 54, 50)            0         \n",
      "                                                                 \n",
      " conv1d_1 (Conv1D)           (None, 50, 64)            16064     \n",
      "                                                                 \n",
      " max_pooling1d_1 (MaxPoolin  (None, 12, 64)            0         \n",
      " g1D)                                                            \n",
      "                                                                 \n",
      " lstm_1 (LSTM)               (None, 64)                33024     \n",
      "                                                                 \n",
      " dense_1 (Dense)             (None, 1)                 65        \n",
      "                                                                 \n",
      "=================================================================\n",
      "Total params: 426753 (1.63 MB)\n",
      "Trainable params: 49153 (192.00 KB)\n",
      "Non-trainable params: 377600 (1.44 MB)\n",
      "_________________________________________________________________\n"
     ]
    }
   ],
   "source": [
    "model = tf.keras.Sequential([ \n",
    "\ttf.keras.layers.Embedding(vocab_size1+1, embedding_dim, \n",
    "\t\t\t\t\t\t\tinput_length=max_length, weights=[ \n",
    "\t\t\t\t\t\t\t\tembeddings_matrix], \n",
    "\t\t\t\t\t\t\ttrainable=False), \n",
    "\ttf.keras.layers.Dropout(0.2), \n",
    "\ttf.keras.layers.Conv1D(64, 5, activation='relu'), \n",
    "\ttf.keras.layers.MaxPooling1D(pool_size=4), \n",
    "\ttf.keras.layers.LSTM(64), \n",
    "\ttf.keras.layers.Dense(1, activation='sigmoid') \n",
    "]) \n",
    "model.compile(loss='binary_crossentropy', \n",
    "\t\t\toptimizer='adam', metrics=['accuracy']) \n",
    "model.summary() \n"
   ]
  },
  {
   "cell_type": "code",
   "execution_count": 31,
   "id": "0df9b598",
   "metadata": {},
   "outputs": [
    {
     "name": "stdout",
     "output_type": "stream",
     "text": [
      "Train on 2700 samples, validate on 300 samples\n",
      "Epoch 1/50\n"
     ]
    },
    {
     "name": "stderr",
     "output_type": "stream",
     "text": [
      "C:\\Users\\Harshal Tak\\OneDrive\\Desktop\\Desktop\\TFProjects\\tfvenv\\lib\\site-packages\\keras\\src\\engine\\training_v1.py:2335: UserWarning: `Model.state_updates` will be removed in a future version. This property should not be used in TensorFlow 2.0, as `updates` are applied automatically.\n",
      "  updates = self.state_updates\n"
     ]
    },
    {
     "name": "stdout",
     "output_type": "stream",
     "text": [
      "2700/2700 - 3s - loss: 0.6384 - accuracy: 0.6230 - val_loss: 0.5561 - val_accuracy: 0.6967 - 3s/epoch - 980us/sample\n",
      "Epoch 2/50\n",
      "2700/2700 - 1s - loss: 0.5849 - accuracy: 0.6952 - val_loss: 0.5384 - val_accuracy: 0.7033 - 1s/epoch - 442us/sample\n",
      "Epoch 3/50\n",
      "2700/2700 - 1s - loss: 0.5385 - accuracy: 0.7300 - val_loss: 0.5093 - val_accuracy: 0.7333 - 1s/epoch - 439us/sample\n",
      "Epoch 4/50\n",
      "2700/2700 - 1s - loss: 0.4972 - accuracy: 0.7581 - val_loss: 0.5062 - val_accuracy: 0.7267 - 1s/epoch - 445us/sample\n",
      "Epoch 5/50\n",
      "2700/2700 - 1s - loss: 0.4469 - accuracy: 0.7874 - val_loss: 0.5105 - val_accuracy: 0.7633 - 1s/epoch - 449us/sample\n",
      "Epoch 6/50\n",
      "2700/2700 - 1s - loss: 0.4021 - accuracy: 0.8230 - val_loss: 0.6209 - val_accuracy: 0.7067 - 1s/epoch - 466us/sample\n",
      "Epoch 7/50\n",
      "2700/2700 - 1s - loss: 0.3709 - accuracy: 0.8433 - val_loss: 0.4830 - val_accuracy: 0.7533 - 1s/epoch - 478us/sample\n",
      "Epoch 8/50\n",
      "2700/2700 - 1s - loss: 0.3408 - accuracy: 0.8474 - val_loss: 0.5261 - val_accuracy: 0.7533 - 1s/epoch - 447us/sample\n",
      "Epoch 9/50\n",
      "2700/2700 - 1s - loss: 0.2828 - accuracy: 0.8837 - val_loss: 0.5180 - val_accuracy: 0.7600 - 1s/epoch - 455us/sample\n",
      "Epoch 10/50\n",
      "2700/2700 - 1s - loss: 0.2694 - accuracy: 0.8863 - val_loss: 0.5801 - val_accuracy: 0.7400 - 1s/epoch - 468us/sample\n",
      "Epoch 11/50\n",
      "2700/2700 - 1s - loss: 0.2557 - accuracy: 0.8911 - val_loss: 0.5735 - val_accuracy: 0.7400 - 1s/epoch - 486us/sample\n",
      "Epoch 12/50\n",
      "2700/2700 - 1s - loss: 0.2425 - accuracy: 0.8996 - val_loss: 0.5090 - val_accuracy: 0.7400 - 1s/epoch - 446us/sample\n",
      "Epoch 13/50\n",
      "2700/2700 - 1s - loss: 0.2102 - accuracy: 0.9122 - val_loss: 0.6162 - val_accuracy: 0.7600 - 1s/epoch - 445us/sample\n",
      "Epoch 14/50\n",
      "2700/2700 - 1s - loss: 0.2396 - accuracy: 0.9048 - val_loss: 0.5766 - val_accuracy: 0.7700 - 1s/epoch - 445us/sample\n",
      "Epoch 15/50\n",
      "2700/2700 - 1s - loss: 0.2132 - accuracy: 0.9156 - val_loss: 0.5444 - val_accuracy: 0.7867 - 1s/epoch - 445us/sample\n",
      "Epoch 16/50\n",
      "2700/2700 - 1s - loss: 0.1720 - accuracy: 0.9293 - val_loss: 0.6764 - val_accuracy: 0.8000 - 1s/epoch - 439us/sample\n",
      "Epoch 17/50\n",
      "2700/2700 - 1s - loss: 0.1615 - accuracy: 0.9370 - val_loss: 0.6908 - val_accuracy: 0.7767 - 1s/epoch - 457us/sample\n",
      "Epoch 18/50\n",
      "2700/2700 - 1s - loss: 0.1521 - accuracy: 0.9400 - val_loss: 0.6653 - val_accuracy: 0.7700 - 1s/epoch - 456us/sample\n",
      "Epoch 19/50\n",
      "2700/2700 - 1s - loss: 0.1366 - accuracy: 0.9459 - val_loss: 0.6435 - val_accuracy: 0.7767 - 1s/epoch - 461us/sample\n",
      "Epoch 20/50\n",
      "2700/2700 - 1s - loss: 0.1266 - accuracy: 0.9470 - val_loss: 0.7692 - val_accuracy: 0.7433 - 1s/epoch - 450us/sample\n",
      "Epoch 21/50\n",
      "2700/2700 - 1s - loss: 0.1371 - accuracy: 0.9463 - val_loss: 0.6621 - val_accuracy: 0.7600 - 1s/epoch - 446us/sample\n",
      "Epoch 22/50\n",
      "2700/2700 - 1s - loss: 0.1287 - accuracy: 0.9533 - val_loss: 0.6714 - val_accuracy: 0.7633 - 1s/epoch - 453us/sample\n",
      "Epoch 23/50\n",
      "2700/2700 - 1s - loss: 0.1313 - accuracy: 0.9467 - val_loss: 0.6354 - val_accuracy: 0.7733 - 1s/epoch - 446us/sample\n",
      "Epoch 24/50\n",
      "2700/2700 - 1s - loss: 0.0954 - accuracy: 0.9659 - val_loss: 0.7036 - val_accuracy: 0.7767 - 1s/epoch - 442us/sample\n",
      "Epoch 25/50\n",
      "2700/2700 - 1s - loss: 0.1172 - accuracy: 0.9563 - val_loss: 0.6277 - val_accuracy: 0.7733 - 1s/epoch - 450us/sample\n",
      "Epoch 26/50\n",
      "2700/2700 - 1s - loss: 0.1089 - accuracy: 0.9585 - val_loss: 0.6711 - val_accuracy: 0.7633 - 1s/epoch - 465us/sample\n",
      "Epoch 27/50\n",
      "2700/2700 - 1s - loss: 0.1089 - accuracy: 0.9581 - val_loss: 0.7668 - val_accuracy: 0.7667 - 1s/epoch - 460us/sample\n",
      "Epoch 28/50\n",
      "2700/2700 - 1s - loss: 0.1183 - accuracy: 0.9567 - val_loss: 0.7372 - val_accuracy: 0.7700 - 1s/epoch - 459us/sample\n",
      "Epoch 29/50\n",
      "2700/2700 - 1s - loss: 0.0886 - accuracy: 0.9652 - val_loss: 0.7967 - val_accuracy: 0.7667 - 1s/epoch - 444us/sample\n",
      "Epoch 30/50\n",
      "2700/2700 - 1s - loss: 0.0990 - accuracy: 0.9633 - val_loss: 0.6327 - val_accuracy: 0.7567 - 1s/epoch - 455us/sample\n",
      "Epoch 31/50\n",
      "2700/2700 - 1s - loss: 0.0779 - accuracy: 0.9689 - val_loss: 0.8477 - val_accuracy: 0.7667 - 1s/epoch - 448us/sample\n",
      "Epoch 32/50\n",
      "2700/2700 - 1s - loss: 0.0798 - accuracy: 0.9678 - val_loss: 0.8206 - val_accuracy: 0.7633 - 1s/epoch - 456us/sample\n",
      "Epoch 33/50\n",
      "2700/2700 - 1s - loss: 0.0748 - accuracy: 0.9737 - val_loss: 0.8333 - val_accuracy: 0.7833 - 1s/epoch - 453us/sample\n",
      "Epoch 34/50\n",
      "2700/2700 - 1s - loss: 0.0750 - accuracy: 0.9693 - val_loss: 0.9692 - val_accuracy: 0.7600 - 1s/epoch - 450us/sample\n",
      "Epoch 35/50\n",
      "2700/2700 - 1s - loss: 0.0766 - accuracy: 0.9696 - val_loss: 0.8623 - val_accuracy: 0.7533 - 1s/epoch - 461us/sample\n",
      "Epoch 36/50\n",
      "2700/2700 - 1s - loss: 0.0810 - accuracy: 0.9681 - val_loss: 0.9066 - val_accuracy: 0.7700 - 1s/epoch - 525us/sample\n",
      "Epoch 37/50\n",
      "2700/2700 - 1s - loss: 0.0747 - accuracy: 0.9719 - val_loss: 0.8698 - val_accuracy: 0.7700 - 1s/epoch - 481us/sample\n",
      "Epoch 38/50\n",
      "2700/2700 - 1s - loss: 0.0710 - accuracy: 0.9719 - val_loss: 0.9609 - val_accuracy: 0.7500 - 1s/epoch - 540us/sample\n",
      "Epoch 39/50\n",
      "2700/2700 - 1s - loss: 0.0692 - accuracy: 0.9741 - val_loss: 0.9026 - val_accuracy: 0.7333 - 1s/epoch - 535us/sample\n",
      "Epoch 40/50\n",
      "2700/2700 - 1s - loss: 0.0713 - accuracy: 0.9759 - val_loss: 0.8627 - val_accuracy: 0.7567 - 1s/epoch - 510us/sample\n",
      "Epoch 41/50\n",
      "2700/2700 - 1s - loss: 0.0647 - accuracy: 0.9759 - val_loss: 1.2449 - val_accuracy: 0.7133 - 1s/epoch - 492us/sample\n",
      "Epoch 42/50\n",
      "2700/2700 - 1s - loss: 0.0826 - accuracy: 0.9693 - val_loss: 0.9156 - val_accuracy: 0.7667 - 1s/epoch - 466us/sample\n",
      "Epoch 43/50\n",
      "2700/2700 - 1s - loss: 0.0590 - accuracy: 0.9778 - val_loss: 0.9829 - val_accuracy: 0.7700 - 1s/epoch - 532us/sample\n",
      "Epoch 44/50\n",
      "2700/2700 - 1s - loss: 0.0579 - accuracy: 0.9789 - val_loss: 0.9564 - val_accuracy: 0.7667 - 1s/epoch - 475us/sample\n",
      "Epoch 45/50\n",
      "2700/2700 - 1s - loss: 0.0623 - accuracy: 0.9770 - val_loss: 0.9624 - val_accuracy: 0.7600 - 1s/epoch - 468us/sample\n",
      "Epoch 46/50\n",
      "2700/2700 - 1s - loss: 0.0688 - accuracy: 0.9737 - val_loss: 0.9307 - val_accuracy: 0.7500 - 1s/epoch - 455us/sample\n",
      "Epoch 47/50\n",
      "2700/2700 - 1s - loss: 0.0569 - accuracy: 0.9778 - val_loss: 1.0336 - val_accuracy: 0.7500 - 1s/epoch - 472us/sample\n",
      "Epoch 48/50\n",
      "2700/2700 - 1s - loss: 0.0757 - accuracy: 0.9719 - val_loss: 0.9761 - val_accuracy: 0.7333 - 1s/epoch - 467us/sample\n",
      "Epoch 49/50\n",
      "2700/2700 - 1s - loss: 0.0517 - accuracy: 0.9800 - val_loss: 1.2837 - val_accuracy: 0.7167 - 1s/epoch - 462us/sample\n",
      "Epoch 50/50\n",
      "2700/2700 - 1s - loss: 0.0614 - accuracy: 0.9767 - val_loss: 1.1535 - val_accuracy: 0.7500 - 1s/epoch - 477us/sample\n"
     ]
    }
   ],
   "source": [
    "num_epochs = 50\n",
    "\n",
    "training_padded = np.array(training_sequences1) \n",
    "training_labels = np.array(training_labels) \n",
    "testing_padded = np.array(test_sequences1) \n",
    "testing_labels = np.array(test_labels) \n",
    "\n",
    "history = model.fit(training_padded, training_labels, \n",
    "\t\t\t\t\tepochs=num_epochs, \n",
    "\t\t\t\t\tvalidation_data=(testing_padded, \n",
    "\t\t\t\t\t\t\t\t\ttesting_labels), \n",
    "\t\t\t\t\tverbose=2) \n"
   ]
  },
  {
   "cell_type": "code",
   "execution_count": 32,
   "id": "6acdf2f4",
   "metadata": {},
   "outputs": [
    {
     "name": "stderr",
     "output_type": "stream",
     "text": [
      "C:\\Users\\Harshal Tak\\OneDrive\\Desktop\\Desktop\\TFProjects\\tfvenv\\lib\\site-packages\\keras\\src\\engine\\training_v1.py:2359: UserWarning: `Model.state_updates` will be removed in a future version. This property should not be used in TensorFlow 2.0, as `updates` are applied automatically.\n",
      "  updates=self.state_updates,\n"
     ]
    },
    {
     "name": "stdout",
     "output_type": "stream",
     "text": [
      "This news is True\n"
     ]
    }
   ],
   "source": [
    "# sample text to check if fake or not \n",
    "X = \"Karry to go to France in gesture of sympathy\"\n",
    "\n",
    "# detection \n",
    "sequences = tokenizer1.texts_to_sequences([X])[0] \n",
    "sequences = pad_sequences([sequences], maxlen=54, \n",
    "\t\t\t\t\t\tpadding=padding_type, \n",
    "\t\t\t\t\t\ttruncating=trunc_type) \n",
    "if(model.predict(sequences, verbose=0)[0][0] >= 0.5): \n",
    "\tprint(\"This news is True\") \n",
    "else: \n",
    "\tprint(\"This news is false\") \n"
   ]
  },
  {
   "cell_type": "code",
   "execution_count": null,
   "id": "ed118dc8",
   "metadata": {},
   "outputs": [],
   "source": []
  }
 ],
 "metadata": {
  "kernelspec": {
   "display_name": "tfkernel",
   "language": "python",
   "name": "tfkernel"
  },
  "language_info": {
   "codemirror_mode": {
    "name": "ipython",
    "version": 3
   },
   "file_extension": ".py",
   "mimetype": "text/x-python",
   "name": "python",
   "nbconvert_exporter": "python",
   "pygments_lexer": "ipython3",
   "version": "3.10.11"
  }
 },
 "nbformat": 4,
 "nbformat_minor": 5
}
